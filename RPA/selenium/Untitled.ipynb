{
 "cells": [
  {
   "cell_type": "code",
   "execution_count": 4,
   "id": "b3288453-2cd1-4967-9d1a-d71f15f848aa",
   "metadata": {},
   "outputs": [
    {
     "data": {
      "text/plain": [
       "'/Users/abdulwahabmac/Desktop/MyFiles/Projects/Training/Elm/RPA 2/RPA/RPA/selenium'"
      ]
     },
     "execution_count": 4,
     "metadata": {},
     "output_type": "execute_result"
    }
   ],
   "source": [
    "pwd"
   ]
  },
  {
   "cell_type": "code",
   "execution_count": 5,
   "id": "8d67a7c2-0d9c-43c5-8ee0-32cb725b1625",
   "metadata": {},
   "outputs": [],
   "source": [
    "%config Completer.use_jedi = False"
   ]
  },
  {
   "cell_type": "code",
   "execution_count": 6,
   "id": "88277e16-3410-4df8-befc-25e626eb514b",
   "metadata": {
    "scrolled": true
   },
   "outputs": [],
   "source": [
    "# pip install selenium==4.15.2"
   ]
  },
  {
   "cell_type": "code",
   "execution_count": null,
   "id": "e7ce8ae5-9d84-4061-bc20-057466b26472",
   "metadata": {},
   "outputs": [],
   "source": []
  },
  {
   "cell_type": "markdown",
   "id": "caa5332a-0e8c-4e65-9d79-8d8fb4c7a642",
   "metadata": {},
   "source": [
    "### imports"
   ]
  },
  {
   "cell_type": "code",
   "execution_count": 7,
   "id": "e38649e4-8d05-46a9-a1e3-50ac55b1263b",
   "metadata": {},
   "outputs": [],
   "source": [
    "from selenium import webdriver\n",
    "from selenium.webdriver.common.by import By\n",
    "from selenium.webdriver.support.ui import WebDriverWait\n",
    "from selenium.webdriver.support import expected_conditions as EC"
   ]
  },
  {
   "cell_type": "code",
   "execution_count": 8,
   "id": "f5506dbe-39ae-4df3-a21b-99e2bb585cda",
   "metadata": {},
   "outputs": [],
   "source": [
    "\n",
    "from bs4 import BeautifulSoup"
   ]
  },
  {
   "cell_type": "code",
   "execution_count": 9,
   "id": "b3721432-1dfb-4cb2-b948-cd32ff409541",
   "metadata": {},
   "outputs": [],
   "source": [
    "import requests"
   ]
  },
  {
   "cell_type": "markdown",
   "id": "d27659a1-5df3-443f-8469-41c25b1e123c",
   "metadata": {
    "jp-MarkdownHeadingCollapsed": true
   },
   "source": [
    "##  Extarct Data"
   ]
  },
  {
   "cell_type": "markdown",
   "id": "972fdc8c-7d96-4da6-9722-df1c038b7565",
   "metadata": {},
   "source": [
    "### BeautifulSoup"
   ]
  },
  {
   "cell_type": "markdown",
   "id": "0e0fb815-2af1-488b-a10c-b39842e520ec",
   "metadata": {
    "jp-MarkdownHeadingCollapsed": true
   },
   "source": [
    "####  using simple string "
   ]
  },
  {
   "cell_type": "code",
   "execution_count": 43,
   "id": "4ee4e9ed-26d6-4537-bf11-c0b9cda0c7af",
   "metadata": {},
   "outputs": [],
   "source": [
    "html_page_2 = \"\"\"\n",
    "<a class=\"flex w-[100%] items-baseline gap-1 overflow-hidden whitespace-nowrap break-words text-lg font-medium text-text-title visited:text-purple-500\" data-author=\"h8em_\" data-testid=\"post-title-link\" href=\"/11146172068/%D9%83%D8%B1%D8%A7%D9%8A%D8%B3%D9%84%D8%B1_%D9%81%D9%84_%D9%83%D8%A7%D9%85%D9%84/\"><h3 class=\"overflow-hidden text-ellipsis\">كرايسلر فل كامل</h3></a>\n",
    "\"\"\"\n",
    "\n",
    "# using simple string \n",
    "soup3 = BeautifulSoup(html_page_2, 'html.parser')\n",
    "soup3.find_all('h3')"
   ]
  },
  {
   "cell_type": "code",
   "execution_count": null,
   "id": "e200817d-b42d-4dc0-b585-87268683f0d2",
   "metadata": {},
   "outputs": [],
   "source": []
  },
  {
   "cell_type": "markdown",
   "id": "681c1ff8-f7b4-49e8-928a-13c85b7ec2f3",
   "metadata": {},
   "source": [
    "####  Send a GET API request to the webpage"
   ]
  },
  {
   "cell_type": "code",
   "execution_count": 86,
   "id": "89a08f00-77e5-46ae-afa4-39d46bb70921",
   "metadata": {},
   "outputs": [],
   "source": [
    " \n",
    "html_page  = requests.get(\"https://haraj.com.sa/\").text\n",
    "soup2 = BeautifulSoup(html_page, 'html.parser')\n",
    "soup2.find_all('a', attrs={\"data-testid\":\"post-title-link\"})"
   ]
  },
  {
   "cell_type": "code",
   "execution_count": null,
   "id": "bd325060-3116-47ff-b243-3c94183f4ff3",
   "metadata": {},
   "outputs": [],
   "source": []
  },
  {
   "cell_type": "markdown",
   "id": "646f62c2-0e0c-4c9b-bafb-c23169ba4227",
   "metadata": {},
   "source": [
    "####  using selenium driver"
   ]
  },
  {
   "cell_type": "code",
   "execution_count": 10,
   "id": "5dcd28b0-cf2d-4267-b09e-c66066451781",
   "metadata": {},
   "outputs": [],
   "source": [
    "\n",
    "# Initialize the webdriver\n",
    "driver = webdriver.Chrome()  # Make sure you have chromedriver installed"
   ]
  },
  {
   "cell_type": "code",
   "execution_count": 11,
   "id": "f3535ebf-d2f8-4035-b8be-db0831f4fa94",
   "metadata": {},
   "outputs": [],
   "source": [
    "\n",
    "driver.get(\"https://haraj.com.sa/\")\n"
   ]
  },
  {
   "cell_type": "code",
   "execution_count": 12,
   "id": "667a2a58-8d39-4684-82ef-45ed4640952c",
   "metadata": {},
   "outputs": [],
   "source": [
    "\n",
    "\n",
    "# # Create a BeautifulSoup object to parse the HTML content\n",
    "\n",
    "soup = BeautifulSoup(driver.page_source, 'html.parser')\n",
    "\n"
   ]
  },
  {
   "cell_type": "markdown",
   "id": "82617ea8-81bd-4b2f-b6e0-6e9b29561e29",
   "metadata": {},
   "source": [
    "#####  find all links "
   ]
  },
  {
   "cell_type": "code",
   "execution_count": 13,
   "id": "9755eb54-be9d-4cd5-8752-54c8e71e9ae9",
   "metadata": {},
   "outputs": [],
   "source": [
    "all_links = soup.find_all('a', attrs={\"data-testid\":\"post-title-link\"})"
   ]
  },
  {
   "cell_type": "markdown",
   "id": "6dfaa1a7-6be6-48ee-86a1-93632a8a14bd",
   "metadata": {},
   "source": [
    "#####  get name , URL"
   ]
  },
  {
   "cell_type": "code",
   "execution_count": null,
   "id": "ce345da0-15e8-4cda-8df6-0f306eb97838",
   "metadata": {},
   "outputs": [],
   "source": []
  },
  {
   "cell_type": "code",
   "execution_count": null,
   "id": "c90d433a-cc09-4029-997a-d3385e456a0c",
   "metadata": {},
   "outputs": [],
   "source": []
  },
  {
   "cell_type": "code",
   "execution_count": 14,
   "id": "221aea43-fc26-476c-82dd-01adaf356470",
   "metadata": {},
   "outputs": [],
   "source": [
    "def GetNameAndURL(soup_in):\n",
    "    name   = soup_in.find('h3').text\n",
    "    url   = f\"https://haraj.com.sa/{soup_in.attrs['href']}\"\n",
    "\n",
    "    return {\"name\":name,\n",
    "            \"url\":url}"
   ]
  },
  {
   "cell_type": "code",
   "execution_count": null,
   "id": "412c52f1-bd54-4437-9a2a-5807d979a71d",
   "metadata": {},
   "outputs": [],
   "source": []
  },
  {
   "cell_type": "code",
   "execution_count": 15,
   "id": "f13514c1-05f0-4849-a6d7-9f6d1793488c",
   "metadata": {},
   "outputs": [],
   "source": [
    "all_names_and_urls = []"
   ]
  },
  {
   "cell_type": "code",
   "execution_count": 16,
   "id": "c83591ad-5c02-4d0c-946a-44d0bcac31ee",
   "metadata": {},
   "outputs": [
    {
     "data": {
      "text/plain": [
       "[]"
      ]
     },
     "execution_count": 16,
     "metadata": {},
     "output_type": "execute_result"
    }
   ],
   "source": [
    "all_names_and_urls"
   ]
  },
  {
   "cell_type": "code",
   "execution_count": 17,
   "id": "ec3fa450-94a8-4cab-a27a-f861f8443ab0",
   "metadata": {},
   "outputs": [],
   "source": [
    "for temp_soup in all_links:\n",
    "    result = GetNameAndURL(temp_soup)\n",
    "    all_names_and_urls.append(result)\n",
    "    "
   ]
  },
  {
   "cell_type": "code",
   "execution_count": 18,
   "id": "8fbcb22e-dcd2-40bb-991e-f59f577dd655",
   "metadata": {},
   "outputs": [
    {
     "data": {
      "text/plain": [
       "{'name': 'قطع غيار نيسان ددسن اصلي كرتير مكينه',\n",
       " 'url': 'https://haraj.com.sa//11147984337/%D9%82%D8%B7%D8%B9_%D8%BA%D9%8A%D8%A7%D8%B1_%D9%86%D9%8A%D8%B3%D8%A7%D9%86_%D8%AF%D8%AF%D8%B3%D9%86_%D8%A7%D8%B5%D9%84%D9%8A_%D9%83%D8%B1%D8%AA%D9%8A%D8%B1_%D9%85%D9%83%D9%8A%D9%86%D9%87/'}"
      ]
     },
     "execution_count": 18,
     "metadata": {},
     "output_type": "execute_result"
    }
   ],
   "source": [
    "all_names_and_urls[0]"
   ]
  },
  {
   "cell_type": "code",
   "execution_count": null,
   "id": "8b4396d0-4002-424a-b4bd-0fb91bd992a4",
   "metadata": {},
   "outputs": [],
   "source": []
  },
  {
   "cell_type": "markdown",
   "id": "c08c8cce-e9c5-4dd5-aa61-50f84f72aef1",
   "metadata": {},
   "source": [
    "##  Click elmnts "
   ]
  },
  {
   "cell_type": "code",
   "execution_count": null,
   "id": "8da51e08-354d-4dcf-af64-dc3ffa284411",
   "metadata": {},
   "outputs": [],
   "source": [
    "'[data-author=\"سليمان 102614\"]'"
   ]
  },
  {
   "cell_type": "code",
   "execution_count": 33,
   "id": "99ab28c1-f948-4437-92f0-38f4c30b32a6",
   "metadata": {},
   "outputs": [],
   "source": [
    "elmnt = driver.find_element(By.CSS_SELECTOR,value='[data-author=\"سليمان 102614\"]')"
   ]
  },
  {
   "cell_type": "code",
   "execution_count": 34,
   "id": "d99f5759-c404-4d31-8cac-5438b731c669",
   "metadata": {},
   "outputs": [
    {
     "data": {
      "text/plain": [
       "'ورق جدران جاهز وتفضيل 3d'"
      ]
     },
     "execution_count": 34,
     "metadata": {},
     "output_type": "execute_result"
    }
   ],
   "source": [
    "elmnt.text"
   ]
  },
  {
   "cell_type": "code",
   "execution_count": 38,
   "id": "87ed068c-6662-4365-bede-03c0d2e5740e",
   "metadata": {},
   "outputs": [],
   "source": [
    "driver.execute_script(\"\"\"alert(\"hi from jupyter\");\"\"\")"
   ]
  },
  {
   "cell_type": "code",
   "execution_count": 40,
   "id": "ea5ddb3d-9db1-4f29-88e8-e9fcd3f0bb21",
   "metadata": {},
   "outputs": [],
   "source": [
    "driver.back()"
   ]
  },
  {
   "cell_type": "code",
   "execution_count": 42,
   "id": "4c025924-53a0-48d4-b806-e124b6279a24",
   "metadata": {},
   "outputs": [],
   "source": [
    "\n",
    "# Wait for an element to be visible and then click it\n",
    "element = WebDriverWait(driver, 10).until(\n",
    "    EC.visibility_of_element_located((By.CSS_SELECTOR, '[data-author=\"سليمان 102614\"]'))\n",
    ")\n",
    "element.click()"
   ]
  },
  {
   "cell_type": "markdown",
   "id": "72e2ec0f-cdf5-4a42-8ff1-bdf21319cfca",
   "metadata": {},
   "source": [
    "##  Click elmnts "
   ]
  },
  {
   "cell_type": "code",
   "execution_count": 43,
   "id": "27445fdb-66d3-4739-99fc-b250718da01b",
   "metadata": {},
   "outputs": [],
   "source": [
    "import pyautogui"
   ]
  },
  {
   "cell_type": "code",
   "execution_count": 45,
   "id": "301fe529-2bbf-4a18-84be-8f4874eb9dfc",
   "metadata": {},
   "outputs": [],
   "source": [
    "sc = pyautogui.screenshot()"
   ]
  },
  {
   "cell_type": "code",
   "execution_count": 48,
   "id": "b14a0791-5c58-4049-8261-bcd43e3235e0",
   "metadata": {},
   "outputs": [],
   "source": [
    "sc.save('test.png')"
   ]
  },
  {
   "cell_type": "code",
   "execution_count": null,
   "id": "bf1c07e3-9661-4333-bc24-645baf73d5e6",
   "metadata": {},
   "outputs": [],
   "source": []
  },
  {
   "cell_type": "code",
   "execution_count": null,
   "id": "229e7e66-ba4c-4e4f-81c1-be1851b50c71",
   "metadata": {},
   "outputs": [],
   "source": []
  },
  {
   "cell_type": "code",
   "execution_count": null,
   "id": "11a92b8d-1ac6-48fd-b7f8-25a25ac969db",
   "metadata": {},
   "outputs": [],
   "source": []
  },
  {
   "cell_type": "code",
   "execution_count": null,
   "id": "2e13e9d3-d1b6-4795-9b1d-d93b68b7a03a",
   "metadata": {},
   "outputs": [],
   "source": []
  },
  {
   "cell_type": "code",
   "execution_count": null,
   "id": "af48f3bc-53da-4777-9ff8-69079e260185",
   "metadata": {},
   "outputs": [],
   "source": []
  },
  {
   "cell_type": "code",
   "execution_count": null,
   "id": "4f665e16-b442-4314-8620-204a8e51d8e5",
   "metadata": {},
   "outputs": [],
   "source": []
  },
  {
   "cell_type": "code",
   "execution_count": null,
   "id": "c54530e7-85b3-4a71-ad5b-b5cf19668259",
   "metadata": {},
   "outputs": [],
   "source": []
  }
 ],
 "metadata": {
  "kernelspec": {
   "display_name": "Python 3 (ipykernel)",
   "language": "python",
   "name": "python3"
  },
  "language_info": {
   "codemirror_mode": {
    "name": "ipython",
    "version": 3
   },
   "file_extension": ".py",
   "mimetype": "text/x-python",
   "name": "python",
   "nbconvert_exporter": "python",
   "pygments_lexer": "ipython3",
   "version": "3.10.14"
  }
 },
 "nbformat": 4,
 "nbformat_minor": 5
}
