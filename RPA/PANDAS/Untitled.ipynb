{
 "cells": [
  {
   "cell_type": "code",
   "execution_count": 1,
   "id": "8e13f420-1b3b-4a17-8ce9-4575f4ec2be3",
   "metadata": {},
   "outputs": [],
   "source": [
    "import pandas as pd"
   ]
  },
  {
   "cell_type": "code",
   "execution_count": 21,
   "id": "d525f5d0-f122-47c7-9f8e-ed1c135297c1",
   "metadata": {},
   "outputs": [],
   "source": [
    "%config Completer.use_jedi = False"
   ]
  },
  {
   "cell_type": "code",
   "execution_count": 12,
   "id": "5cb3b869-ef98-4aef-984b-58008263ff76",
   "metadata": {
    "scrolled": true
   },
   "outputs": [],
   "source": [
    "# read excel \n",
    "df = pd.read_excel(\"InspecorsDates.xlsx\")"
   ]
  },
  {
   "cell_type": "code",
   "execution_count": 34,
   "id": "38d5c7e5-9cdb-4cfb-a1eb-46a97c8b623c",
   "metadata": {},
   "outputs": [
    {
     "data": {
      "text/plain": [
       "Index(['أحمد سالم محمد حكمي', 'عبدالله شايع محمد أبوطالب',\n",
       "       'ايمن تركي هادي محمد ', 'احمد ابراهيم عسيري', 'يحيى حسين احمد الفيفي ',\n",
       "       'مشعل عبدالله محمد عسيري', 'فيصل عبدالله الظورة',\n",
       "       'البراء ماجد محمد معشي ', 'فهد احمد حسين اللغبي',\n",
       "       'عبد المحسن هادي مفرح الالمعي', 'سلطان علي محمد عسيري',\n",
       "       'عوض سلمان القحطاني', 'عبدالعزيز سعيد ال مريط ',\n",
       "       'فيصل ماطر عبدالله ال رزين', 'عادل علي أحمد سلعي',\n",
       "       'متعب ناصر معتق بن علي', 'تركي حسين سعيد القحطاني ',\n",
       "       'سعود محمد احمد الاسمري', 'محمد ناصر الشهري', 'فيصل حسن احمد عسيري',\n",
       "       'فهد فيصل عوظه ال الدرار', 'عبدالمجيد علي جابر اللغبي',\n",
       "       'عبدالعزيز مسعود شويه', 'عبدالعزيز عائض الشهراني',\n",
       "       'صالح مسفر صالح القحطاني', 'سلمان محمد جابر عسيري',\n",
       "       'سلطان عبدالله علي الشهراني', 'محمد عبد الله عمر ال طالع',\n",
       "       'أحمد زيلعي أحمد عسيري '],\n",
       "      dtype='object', name='Inspector_Name')"
      ]
     },
     "execution_count": 34,
     "metadata": {},
     "output_type": "execute_result"
    }
   ],
   "source": [
    "df.Inspector_Name.value_counts().index"
   ]
  },
  {
   "cell_type": "code",
   "execution_count": null,
   "id": "918138d3-1715-4f1d-be6c-769a60eacb51",
   "metadata": {},
   "outputs": [],
   "source": []
  },
  {
   "cell_type": "code",
   "execution_count": null,
   "id": "3e7b6170-4740-4229-9d3a-426b79df7537",
   "metadata": {},
   "outputs": [],
   "source": []
  },
  {
   "cell_type": "code",
   "execution_count": null,
   "id": "ed807b55-d429-4bf5-b2b5-55e915181a5d",
   "metadata": {},
   "outputs": [],
   "source": []
  },
  {
   "cell_type": "code",
   "execution_count": null,
   "id": "c502e744-88b2-4401-a288-5ca42129a62f",
   "metadata": {},
   "outputs": [],
   "source": []
  },
  {
   "cell_type": "code",
   "execution_count": 48,
   "id": "e710f2f0-482d-4d31-b139-bf219f7c9370",
   "metadata": {},
   "outputs": [
    {
     "name": "stdout",
     "output_type": "stream",
     "text": [
      "index 10\n"
     ]
    }
   ],
   "source": [
    "for index , name in enumerate(df.Inspector_Name.value_counts().index):\n",
    "    \n",
    "    if (\"عسيري\" in name and \"سلطان\" in name ) :\n",
    "        print(\"index\" , index)\n",
    "        \n"
   ]
  },
  {
   "cell_type": "code",
   "execution_count": 50,
   "id": "8151bdb1-9801-49af-8618-6553865df4b1",
   "metadata": {},
   "outputs": [],
   "source": [
    "name_test = \"أحمد سالم محمد حكمي\""
   ]
  },
  {
   "cell_type": "code",
   "execution_count": 63,
   "id": "828155c0-fef4-4696-8078-c22ec44d898a",
   "metadata": {},
   "outputs": [],
   "source": [
    "def GetF_L_name(Inspector_Name:str) -> str:\n",
    "    \"\"\"\n",
    "    \"\"\"\n",
    "    result = None\n",
    "    temp1 = Inspector_Name.split()\n",
    "    temp2  = f\"{temp1[0]}  {temp1[-1]} \" \n",
    "    result = str(temp2) \n",
    "    return result\n",
    "\n",
    "\n"
   ]
  },
  {
   "cell_type": "code",
   "execution_count": 80,
   "id": "ab1a2ef8-0cef-4524-902f-0f907c0caec6",
   "metadata": {},
   "outputs": [],
   "source": [
    "# def GetF_name(Inspector_Name:str) -> str:\n",
    "#     \"\"\"\n",
    "#     \"\"\" \n",
    "#     return Inspector_Name.split()[0]\n",
    "\n",
    "\n"
   ]
  },
  {
   "cell_type": "code",
   "execution_count": 81,
   "id": "62dc3c3e-e241-4afa-89a9-7dc81049c7f3",
   "metadata": {},
   "outputs": [],
   "source": [
    "# df.Inspector_Name.map(lambda x:x.split()[0])"
   ]
  },
  {
   "cell_type": "code",
   "execution_count": null,
   "id": "11189b6f-a0d4-43e7-adeb-f0bab2a1ac76",
   "metadata": {},
   "outputs": [],
   "source": []
  },
  {
   "cell_type": "code",
   "execution_count": null,
   "id": "e4091fc2-1a81-4e35-8a10-eaaf33f65e7f",
   "metadata": {},
   "outputs": [],
   "source": []
  },
  {
   "cell_type": "code",
   "execution_count": null,
   "id": "3b844aa9-8b05-4839-aef7-37a47433fd7d",
   "metadata": {},
   "outputs": [],
   "source": []
  },
  {
   "cell_type": "code",
   "execution_count": null,
   "id": "505a2c5f-77c7-4c9d-8b5d-9900c142e254",
   "metadata": {},
   "outputs": [],
   "source": []
  },
  {
   "cell_type": "code",
   "execution_count": 84,
   "id": "eadbef8d-2e65-4e77-9ad2-310823636884",
   "metadata": {
    "scrolled": true
   },
   "outputs": [],
   "source": [
    "record = df.to_dict('records')[0]"
   ]
  },
  {
   "cell_type": "code",
   "execution_count": 85,
   "id": "165849a9-2f3d-4f87-825b-6898e0573368",
   "metadata": {
    "scrolled": true
   },
   "outputs": [
    {
     "data": {
      "text/plain": [
       "{'Inspector_Name': 'أحمد  حكمي ',\n",
       " 'Inspector_gender': 'M',\n",
       " 'Municipalities': \"['بلدية خميس مشيط']\",\n",
       " 'Day_01': 'w',\n",
       " 'Day_02': 'w',\n",
       " 'Day_03': 'OFF',\n",
       " 'Day_04': 'OFF',\n",
       " 'Day_05': 'w',\n",
       " 'Day_06': 'w',\n",
       " 'Day_07': 'w',\n",
       " 'Day_08': 'w',\n",
       " 'Day_09': 'w',\n",
       " 'Day_10': 'OFF',\n",
       " 'Day_11': 'OFF',\n",
       " 'Day_12': 'w',\n",
       " 'Day_13': 'w',\n",
       " 'Day_14': 'w',\n",
       " 'Day_15': 'w',\n",
       " 'Day_16': 'w',\n",
       " 'Day_17': 'OFF',\n",
       " 'Day_18': 'OFF',\n",
       " 'Day_19': 'w',\n",
       " 'Day_20': 'w',\n",
       " 'Day_21': 'w',\n",
       " 'Day_22': 'w',\n",
       " 'Day_23': 'w',\n",
       " 'Day_24': 'OFF',\n",
       " 'Day_25': 'OFF',\n",
       " 'Day_26': 'w',\n",
       " 'Day_27': 'w',\n",
       " 'Day_28': 'w',\n",
       " 'Day_29': 'w',\n",
       " 'Day_30': 'w',\n",
       " 'Day_31': 'OFF'}"
      ]
     },
     "execution_count": 85,
     "metadata": {},
     "output_type": "execute_result"
    }
   ],
   "source": [
    "record"
   ]
  },
  {
   "cell_type": "code",
   "execution_count": 115,
   "id": "f6482095-ab3f-4617-9e5e-fd16297fd60e",
   "metadata": {},
   "outputs": [],
   "source": [
    "def Check_if_OFF(record_in:dict)-> bool:\n",
    "    \"\"\"\n",
    "    \"\"\" \n",
    "    convetred_list = eval(record_in['Municipalities'])\n",
    "    if ((   'بلدية خميس مشيط'  in convetred_list) and (record_in['Day_03'] == 'OFF')):\n",
    "        return True\n",
    "    else:\n",
    "        return False"
   ]
  },
  {
   "cell_type": "code",
   "execution_count": 113,
   "id": "bf9c5648-222d-4583-ad5f-66ed381655ec",
   "metadata": {},
   "outputs": [
    {
     "data": {
      "text/plain": [
       "False"
      ]
     },
     "execution_count": 113,
     "metadata": {},
     "output_type": "execute_result"
    }
   ],
   "source": [
    "Check_if_OFF(record)"
   ]
  },
  {
   "cell_type": "code",
   "execution_count": 118,
   "id": "9b1adab2-c8ea-434e-8dc1-1ebe3f7eaf00",
   "metadata": {},
   "outputs": [],
   "source": [
    "df['is_off_and_in_khmes'] = df.apply(lambda x:Check_if_OFF(x),axis=1)"
   ]
  },
  {
   "cell_type": "code",
   "execution_count": null,
   "id": "7010d318-2502-4efb-b819-261b5016a808",
   "metadata": {},
   "outputs": [],
   "source": []
  },
  {
   "cell_type": "code",
   "execution_count": 123,
   "id": "0ff4ceef-20b6-45e0-8460-d1260fc5c89b",
   "metadata": {},
   "outputs": [],
   "source": [
    "# df.query(\"is_off_and_in_khmes == True\")"
   ]
  },
  {
   "cell_type": "code",
   "execution_count": null,
   "id": "fda1a5a2-6b2e-40f0-9d7e-0f22115bfae7",
   "metadata": {},
   "outputs": [],
   "source": []
  },
  {
   "cell_type": "code",
   "execution_count": 125,
   "id": "4677d911-cef8-4d9e-875c-ee061aeac2dc",
   "metadata": {},
   "outputs": [],
   "source": [
    "# df[df.is_off_and_in_khmes]"
   ]
  },
  {
   "cell_type": "code",
   "execution_count": null,
   "id": "c946fa32-7a4f-45bb-af66-0f8bcf00060b",
   "metadata": {},
   "outputs": [],
   "source": []
  },
  {
   "cell_type": "code",
   "execution_count": 128,
   "id": "cefe5d22-def6-4b89-a2b2-23612b3c7826",
   "metadata": {},
   "outputs": [],
   "source": [
    "df.to_excel('results.xlsx' , index=False)"
   ]
  },
  {
   "cell_type": "code",
   "execution_count": null,
   "id": "55dc4612-a281-4826-8c46-c06910090f3c",
   "metadata": {},
   "outputs": [],
   "source": []
  },
  {
   "cell_type": "code",
   "execution_count": null,
   "id": "bb441472-e7dc-4534-bd32-e592543ac759",
   "metadata": {},
   "outputs": [],
   "source": []
  },
  {
   "cell_type": "code",
   "execution_count": null,
   "id": "8bfb21b6-9f2e-48e2-b369-b043b230fa50",
   "metadata": {},
   "outputs": [],
   "source": []
  },
  {
   "cell_type": "code",
   "execution_count": null,
   "id": "60fe2ccd-46e7-4d90-be02-e1172009116d",
   "metadata": {},
   "outputs": [],
   "source": []
  },
  {
   "cell_type": "code",
   "execution_count": null,
   "id": "99bf4af0-fa80-4a6e-ba5f-5785fdfebef0",
   "metadata": {},
   "outputs": [],
   "source": []
  },
  {
   "cell_type": "code",
   "execution_count": null,
   "id": "55d5ee27-3d8c-40a7-b091-f86c8077f002",
   "metadata": {},
   "outputs": [],
   "source": []
  },
  {
   "cell_type": "code",
   "execution_count": null,
   "id": "40e889e2-3fe7-456b-bfcb-c740a2b5bb15",
   "metadata": {},
   "outputs": [],
   "source": []
  },
  {
   "cell_type": "code",
   "execution_count": null,
   "id": "6be71143-2591-4147-8206-b452ee6f1ac6",
   "metadata": {},
   "outputs": [],
   "source": []
  },
  {
   "cell_type": "code",
   "execution_count": null,
   "id": "db8b1e29-225e-450b-a2c9-5aa5e70adb0d",
   "metadata": {},
   "outputs": [],
   "source": []
  }
 ],
 "metadata": {
  "kernelspec": {
   "display_name": "Python 3 (ipykernel)",
   "language": "python",
   "name": "python3"
  },
  "language_info": {
   "codemirror_mode": {
    "name": "ipython",
    "version": 3
   },
   "file_extension": ".py",
   "mimetype": "text/x-python",
   "name": "python",
   "nbconvert_exporter": "python",
   "pygments_lexer": "ipython3",
   "version": "3.10.14"
  }
 },
 "nbformat": 4,
 "nbformat_minor": 5
}
