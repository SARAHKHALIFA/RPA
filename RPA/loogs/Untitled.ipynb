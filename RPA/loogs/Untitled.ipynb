{
 "cells": [
  {
   "cell_type": "code",
   "execution_count": 1,
   "id": "a1c36354-fa4a-4895-9e6c-24bdd83dead1",
   "metadata": {},
   "outputs": [],
   "source": [
    "import logging\n",
    "import sys\n",
    "import traceback"
   ]
  },
  {
   "cell_type": "code",
   "execution_count": 2,
   "id": "c88fb1b3-deec-418c-9b2f-13879ff62e7a",
   "metadata": {},
   "outputs": [],
   "source": [
    "\n",
    "\n",
    "# Initialize logger\n",
    "my_logger = logging.getLogger('logger')\n",
    "my_logger.setLevel(logging.INFO)\n"
   ]
  },
  {
   "cell_type": "code",
   "execution_count": 3,
   "id": "d5adcab0-b530-474a-85b5-d222276f9fbb",
   "metadata": {},
   "outputs": [],
   "source": [
    "\n",
    "# Create a file handler\n",
    "app_file_handler = logging.FileHandler('my_app.log', encoding='utf-8')"
   ]
  },
  {
   "cell_type": "code",
   "execution_count": 4,
   "id": "b16104ab-7dd2-4e61-8193-999b30be9937",
   "metadata": {},
   "outputs": [],
   "source": [
    "\n",
    "\n",
    "# Create a console handler (optional, for console output)\n",
    "console_handler = logging.StreamHandler(sys.stdout)"
   ]
  },
  {
   "cell_type": "code",
   "execution_count": 5,
   "id": "900c54bc-e5de-4ed5-bc82-5b7fa835a918",
   "metadata": {},
   "outputs": [],
   "source": [
    "\n",
    "# Create a formatter and set it for both handlers\n",
    "formatter = logging.Formatter('%(asctime)s - %(name)s - %(levelname)s - %(message)s')"
   ]
  },
  {
   "cell_type": "code",
   "execution_count": 6,
   "id": "7bc136e2-8b4c-4c24-bc92-80de78934c0e",
   "metadata": {},
   "outputs": [],
   "source": [
    "\n",
    "app_file_handler.setFormatter(formatter)\n",
    "console_handler.setFormatter(formatter)"
   ]
  },
  {
   "cell_type": "code",
   "execution_count": 7,
   "id": "f55a48b6-5c58-4db4-87fa-9be0ffb3c609",
   "metadata": {},
   "outputs": [],
   "source": [
    "\n",
    "\n",
    "\n",
    "# Add both handlers to the logger\n",
    "my_logger.addHandler(app_file_handler)\n",
    "my_logger.addHandler(console_handler)\n"
   ]
  },
  {
   "cell_type": "code",
   "execution_count": 8,
   "id": "99e52ccc-fdd7-4677-843a-154cc6eea1a1",
   "metadata": {},
   "outputs": [
    {
     "name": "stdout",
     "output_type": "stream",
     "text": [
      "2024-11-18 18:59:45,738 - logger - INFO - Logging initialized successfully\n"
     ]
    }
   ],
   "source": [
    "\n",
    "# Test logging\n",
    "my_logger.info(\"Logging initialized successfully\")"
   ]
  },
  {
   "cell_type": "code",
   "execution_count": 9,
   "id": "c5fcb21a-5c41-47a1-96bf-1d5c7edeaab6",
   "metadata": {},
   "outputs": [
    {
     "name": "stdout",
     "output_type": "stream",
     "text": [
      "2024-11-18 19:00:52,056 - logger - ERROR - this is error\n"
     ]
    }
   ],
   "source": [
    "my_logger.error(\"this is error\")"
   ]
  },
  {
   "cell_type": "code",
   "execution_count": null,
   "id": "6d6c127c-d34b-4754-8e2e-5d5b951f1095",
   "metadata": {},
   "outputs": [],
   "source": []
  },
  {
   "cell_type": "code",
   "execution_count": null,
   "id": "3ca15d6d-6fb1-4b45-98d1-31d88bf69ee2",
   "metadata": {},
   "outputs": [],
   "source": []
  },
  {
   "cell_type": "code",
   "execution_count": 10,
   "id": "8e42662e-6224-4537-9b1c-97a64e97941b",
   "metadata": {},
   "outputs": [
    {
     "name": "stdout",
     "output_type": "stream",
     "text": [
      "2024-11-18 19:02:05,967 - logger - INFO - Starting RPA process\n",
      "2024-11-18 19:02:05,968 - logger - INFO - Performing web automation task\n",
      "2024-11-18 19:02:05,969 - logger - ERROR - An error occurred in the RPA process\n",
      "2024-11-18 19:02:05,971 - logger - ERROR - Error details: Traceback (most recent call last):\n",
      "  File \"/var/folders/hq/scvbwj_55y366k5jlzy80rx40000gn/T/ipykernel_45909/562501016.py\", line 9, in <module>\n",
      "    x = int(\"sdgsdhkbds\")\n",
      "ValueError: invalid literal for int() with base 10: 'sdgsdhkbds'\n",
      "\n",
      "2024-11-18 19:02:05,972 - logger - INFO - RPA process completed\n"
     ]
    }
   ],
   "source": [
    "\n",
    "my_logger.info(\"Starting RPA process\")\n",
    "\n",
    "# Example of logging in an RPA process\n",
    "try:\n",
    "    # Your RPA code here\n",
    "    my_logger.info(\"Performing web automation task\")\n",
    "    # ... (Selenium code)\n",
    "\n",
    "    x = int(\"sdgsdhkbds\")\n",
    "    \n",
    "    my_logger.info(\"Executing desktop automation task\")\n",
    "    # ... (PyAutoGUI code)\n",
    "    \n",
    "except Exception as ex:\n",
    "    my_logger.error(f'An error occurred in the RPA process')\n",
    "    my_logger.error(f'Error details: {traceback.format_exc()}')\n",
    "\n",
    "finally:\n",
    "    my_logger.info(\"RPA process completed\")"
   ]
  },
  {
   "cell_type": "code",
   "execution_count": 13,
   "id": "c7394853-a52c-4196-b0dd-67a3c1145ee7",
   "metadata": {},
   "outputs": [],
   "source": [
    "\n",
    "def get_weather(city):\n",
    "    base_url = \"https://goweather.herokuapp.com/weather/\"\n",
    "    try:\n",
    "        response = requests.get(base_url + city)\n",
    "        data = response.json()\n",
    "        if response.status_code == 200:\n",
    "            return data['temperature']\n",
    "        else:\n",
    "            # logger.error(f\"Failed to get weather data: {data.get('message', 'Unknown error')}\")\n",
    "            return None\n",
    "    except Exception as e:\n",
    "        # logger.error(f\"Error in weather API call: {str(e)}\")\n",
    "        return None\n"
   ]
  },
  {
   "cell_type": "code",
   "execution_count": 14,
   "id": "de72f175-c1f2-412e-8693-7c83b5d8a8a6",
   "metadata": {},
   "outputs": [],
   "source": [
    "get_weather('london')"
   ]
  },
  {
   "cell_type": "code",
   "execution_count": null,
   "id": "08b761a5-5f92-456a-b19c-a94aea015acf",
   "metadata": {},
   "outputs": [],
   "source": []
  }
 ],
 "metadata": {
  "kernelspec": {
   "display_name": "Python 3 (ipykernel)",
   "language": "python",
   "name": "python3"
  },
  "language_info": {
   "codemirror_mode": {
    "name": "ipython",
    "version": 3
   },
   "file_extension": ".py",
   "mimetype": "text/x-python",
   "name": "python",
   "nbconvert_exporter": "python",
   "pygments_lexer": "ipython3",
   "version": "3.10.14"
  }
 },
 "nbformat": 4,
 "nbformat_minor": 5
}
