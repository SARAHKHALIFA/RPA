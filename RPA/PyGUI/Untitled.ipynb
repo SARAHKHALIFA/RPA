{
 "cells": [
  {
   "cell_type": "code",
   "execution_count": 10,
   "id": "a66795e5-2dbf-4690-9941-02b035dabc7a",
   "metadata": {},
   "outputs": [],
   "source": [
    "%config Completer.use_jedi = False"
   ]
  },
  {
   "cell_type": "code",
   "execution_count": 6,
   "id": "e8943865-d190-4829-8720-dc1b9dcba2b6",
   "metadata": {},
   "outputs": [],
   "source": [
    "import pyautogui as pgui\n"
   ]
  },
  {
   "cell_type": "code",
   "execution_count": 4,
   "id": "320d0a01-0fbf-4719-9650-16f96613a084",
   "metadata": {
    "scrolled": true
   },
   "outputs": [],
   "source": [
    "# pip install pyautogui==0.9.54"
   ]
  },
  {
   "cell_type": "code",
   "execution_count": 29,
   "id": "7621cb07-669a-442c-a4e2-82bf41eaeee5",
   "metadata": {},
   "outputs": [],
   "source": [
    "pgui.click(x=1302, y=46)\n",
    "sleep(.5)\n",
    "pgui.moveTo(x=1249, y=83)\n",
    "sleep(.5)\n",
    "pgui.write(\"amazon\")\n",
    "sleep(.3)\n",
    "pgui.press('enter')\n",
    "sleep(1.5)\n",
    "pgui.moveTo(x=870, y=223)"
   ]
  },
  {
   "cell_type": "code",
   "execution_count": null,
   "id": "e01acacb-4d8c-47e9-961f-740e00ffdf14",
   "metadata": {},
   "outputs": [],
   "source": [
    "\n",
    "# pgui.hotkey('shift','tab')\n",
    "# pgui.press('enter')"
   ]
  },
  {
   "cell_type": "code",
   "execution_count": null,
   "id": "ebda2ad7-36d8-477a-9d1f-283bce99fdb9",
   "metadata": {},
   "outputs": [],
   "source": [
    "pgui.press"
   ]
  },
  {
   "cell_type": "code",
   "execution_count": 24,
   "id": "04be53d0-b418-43db-8904-f9a0dccfdf03",
   "metadata": {},
   "outputs": [],
   "source": [
    "from time  import sleep"
   ]
  },
  {
   "cell_type": "code",
   "execution_count": null,
   "id": "0b036a18-bccb-4698-8289-1ed4682adfac",
   "metadata": {},
   "outputs": [],
   "source": []
  },
  {
   "cell_type": "code",
   "execution_count": null,
   "id": "aff65824-2cee-46ce-9e3a-a5f75d586a79",
   "metadata": {},
   "outputs": [],
   "source": []
  },
  {
   "cell_type": "code",
   "execution_count": null,
   "id": "2fa98437-86c0-46d8-bd11-bdf148985c55",
   "metadata": {},
   "outputs": [],
   "source": []
  },
  {
   "cell_type": "code",
   "execution_count": 28,
   "id": "c9ddbbeb-7689-4779-8002-c40f2faf8243",
   "metadata": {},
   "outputs": [
    {
     "data": {
      "text/plain": [
       "Point(x=870, y=223)"
      ]
     },
     "execution_count": 28,
     "metadata": {},
     "output_type": "execute_result"
    }
   ],
   "source": [
    "pgui.position()"
   ]
  },
  {
   "cell_type": "code",
   "execution_count": null,
   "id": "5ef39120-a55b-4532-9671-791a58940285",
   "metadata": {},
   "outputs": [],
   "source": []
  }
 ],
 "metadata": {
  "kernelspec": {
   "display_name": "Python 3 (ipykernel)",
   "language": "python",
   "name": "python3"
  },
  "language_info": {
   "codemirror_mode": {
    "name": "ipython",
    "version": 3
   },
   "file_extension": ".py",
   "mimetype": "text/x-python",
   "name": "python",
   "nbconvert_exporter": "python",
   "pygments_lexer": "ipython3",
   "version": "3.10.14"
  }
 },
 "nbformat": 4,
 "nbformat_minor": 5
}
