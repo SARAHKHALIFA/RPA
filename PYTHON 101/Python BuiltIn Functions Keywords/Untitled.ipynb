{
 "cells": [
  {
   "cell_type": "code",
   "execution_count": null,
   "id": "8754cd71-2355-44ad-9db9-f96b5232358f",
   "metadata": {},
   "outputs": [],
   "source": []
  },
  {
   "cell_type": "code",
   "execution_count": null,
   "id": "18e074b9-fb8a-4cf1-a2ae-f2820d13e939",
   "metadata": {},
   "outputs": [],
   "source": []
  },
  {
   "cell_type": "code",
   "execution_count": null,
   "id": "faf196e6-bf02-4386-b4e6-bdaa836705fe",
   "metadata": {},
   "outputs": [],
   "source": []
  },
  {
   "cell_type": "code",
   "execution_count": null,
   "id": "9f90526c-5056-41e9-8abf-f1cbfdb4c8d5",
   "metadata": {},
   "outputs": [],
   "source": []
  },
  {
   "cell_type": "code",
   "execution_count": null,
   "id": "39fc3b0f-25ab-4bed-ae39-25d368bb7738",
   "metadata": {},
   "outputs": [],
   "source": []
  },
  {
   "cell_type": "code",
   "execution_count": 27,
   "id": "2b4c1292-52bf-4461-a105-7ec81b3204b0",
   "metadata": {},
   "outputs": [],
   "source": [
    "s = dict()"
   ]
  },
  {
   "cell_type": "code",
   "execution_count": null,
   "id": "51c876fc-dd11-4a4f-9e52-b76980af98fa",
   "metadata": {},
   "outputs": [],
   "source": [
    "s.keys"
   ]
  },
  {
   "cell_type": "code",
   "execution_count": null,
   "id": "c96f927d-bfcb-4de5-9a4e-8a1e0b9487e1",
   "metadata": {},
   "outputs": [],
   "source": []
  },
  {
   "cell_type": "code",
   "execution_count": 28,
   "id": "0ef926a8-dec7-446a-9623-2f17508727f2",
   "metadata": {},
   "outputs": [],
   "source": [
    "def myFun(**kwargs):\n",
    "    print(\"kwargs  === \",kwargs)\n",
    "    print(\"kwargs kyes === \",kwargs.keys())\n",
    "    print(\"kwargs values === \",kwargs.values()) \n"
   ]
  },
  {
   "cell_type": "code",
   "execution_count": 29,
   "id": "f2c6cef1-3334-4739-bc2e-8d1bedaa1ffd",
   "metadata": {},
   "outputs": [
    {
     "name": "stdout",
     "output_type": "stream",
     "text": [
      "kwargs  ===  {'first': 'Geeks', 'mid': 'for', 'last': 'Geeks'}\n",
      "kwargs kyes ===  dict_keys(['first', 'mid', 'last'])\n",
      "kwargs values ===  dict_values(['Geeks', 'for', 'Geeks'])\n"
     ]
    }
   ],
   "source": [
    "\n",
    "# Driver code\n",
    "myFun(first='Geeks', mid='for', last='Geeks')"
   ]
  },
  {
   "cell_type": "code",
   "execution_count": null,
   "id": "f69e15a4-be53-4f3d-87ff-27f3378766ce",
   "metadata": {},
   "outputs": [],
   "source": []
  },
  {
   "cell_type": "code",
   "execution_count": 32,
   "id": "64f002f3-3556-4793-9293-315a08b44f2c",
   "metadata": {},
   "outputs": [],
   "source": [
    "def myFun0(*argv):\n",
    "    print(\"argv === \" , argv)\n",
    "    print(\"argv[0] === \" , argv[0])\n",
    "    # for arg in argv[0]:\n",
    "    #     print(arg)\n",
    "    #     print(\"new \")\n",
    "\n",
    "\n"
   ]
  },
  {
   "cell_type": "code",
   "execution_count": 37,
   "id": "7f080b01-d4ba-4d6a-8196-4a7c9d41f4d8",
   "metadata": {},
   "outputs": [],
   "source": [
    "def myFun0(id1, id2, id3):\n",
    "    print(\"argv === \" , tuple())\n",
    "    print(\"argv[0] === \" , id1)\n",
    "    # for arg in argv[0]:\n",
    "    #     print(arg)\n",
    "    #     print(\"new \")\n",
    "\n",
    "\n"
   ]
  },
  {
   "cell_type": "code",
   "execution_count": 38,
   "id": "2dc280e8-2cee-4552-b888-feaf54ddbc6a",
   "metadata": {},
   "outputs": [
    {
     "ename": "TypeError",
     "evalue": "tuple expected at most 1 argument, got 3",
     "output_type": "error",
     "traceback": [
      "\u001b[0;31m---------------------------------------------------------------------------\u001b[0m",
      "\u001b[0;31mTypeError\u001b[0m                                 Traceback (most recent call last)",
      "Cell \u001b[0;32mIn[38], line 4\u001b[0m\n\u001b[1;32m      1\u001b[0m \u001b[38;5;66;03m# put_prams = [2,3,45]\u001b[39;00m\n\u001b[1;32m      2\u001b[0m put_prams \u001b[38;5;241m=\u001b[39m name\u001b[38;5;241m=\u001b[39m\u001b[38;5;241m2\u001b[39m , \u001b[38;5;241m345\u001b[39m , \u001b[38;5;241m333\u001b[39m\n\u001b[0;32m----> 4\u001b[0m \u001b[43mmyFun0\u001b[49m\u001b[43m(\u001b[49m\u001b[38;5;241;43m2\u001b[39;49m\u001b[43m \u001b[49m\u001b[43m,\u001b[49m\u001b[43m \u001b[49m\u001b[38;5;241;43m345\u001b[39;49m\u001b[43m \u001b[49m\u001b[43m,\u001b[49m\u001b[43m \u001b[49m\u001b[38;5;241;43m333\u001b[39;49m\u001b[43m)\u001b[49m\n",
      "Cell \u001b[0;32mIn[37], line 2\u001b[0m, in \u001b[0;36mmyFun0\u001b[0;34m(id1, id2, id3)\u001b[0m\n\u001b[1;32m      1\u001b[0m \u001b[38;5;28;01mdef\u001b[39;00m \u001b[38;5;21mmyFun0\u001b[39m(id1, id2, id3):\n\u001b[0;32m----> 2\u001b[0m     \u001b[38;5;28mprint\u001b[39m(\u001b[38;5;124m\"\u001b[39m\u001b[38;5;124margv === \u001b[39m\u001b[38;5;124m\"\u001b[39m , \u001b[38;5;28;43mtuple\u001b[39;49m\u001b[43m(\u001b[49m\u001b[43mid1\u001b[49m\u001b[43m,\u001b[49m\u001b[43m \u001b[49m\u001b[43mid2\u001b[49m\u001b[43m,\u001b[49m\u001b[43m \u001b[49m\u001b[43mid3\u001b[49m\u001b[43m)\u001b[49m)\n\u001b[1;32m      3\u001b[0m     \u001b[38;5;28mprint\u001b[39m(\u001b[38;5;124m\"\u001b[39m\u001b[38;5;124margv[0] === \u001b[39m\u001b[38;5;124m\"\u001b[39m , id1)\n",
      "\u001b[0;31mTypeError\u001b[0m: tuple expected at most 1 argument, got 3"
     ]
    }
   ],
   "source": [
    "# put_prams = [2,3,45]\n",
    "put_prams = name=2 , 345 , 333\n",
    "\n",
    "myFun0(2 , 345 , 333)"
   ]
  },
  {
   "cell_type": "code",
   "execution_count": null,
   "id": "1a521ea2-8a45-45fd-bfa9-5f26e173db4a",
   "metadata": {},
   "outputs": [],
   "source": []
  },
  {
   "cell_type": "code",
   "execution_count": null,
   "id": "60d0a436-4164-4464-bf26-048a5ce1b8cb",
   "metadata": {},
   "outputs": [],
   "source": []
  },
  {
   "cell_type": "code",
   "execution_count": null,
   "id": "6db4f1b1-f6b8-4eb5-97b9-afdf5a14c9bd",
   "metadata": {},
   "outputs": [],
   "source": []
  },
  {
   "cell_type": "code",
   "execution_count": 12,
   "id": "64eab805-39eb-4790-8596-aedafcd5cc3d",
   "metadata": {},
   "outputs": [],
   "source": [
    "def myFun(list_in:list):\n",
    "    for arg in list_in:\n",
    "        print(arg)\n"
   ]
  },
  {
   "cell_type": "code",
   "execution_count": null,
   "id": "43d5db96-4218-49b9-9958-9cd034025b58",
   "metadata": {},
   "outputs": [],
   "source": [
    "myFun0('Hello', 'Welcome', 'to', 'GeeksforGeeks')"
   ]
  },
  {
   "cell_type": "code",
   "execution_count": 18,
   "id": "de2135e2-0b8d-42c1-ac34-4ecda2e4610d",
   "metadata": {},
   "outputs": [
    {
     "name": "stdout",
     "output_type": "stream",
     "text": [
      "2\n",
      "new \n",
      "3\n",
      "new \n",
      "45\n",
      "new \n"
     ]
    }
   ],
   "source": [
    "in"
   ]
  },
  {
   "cell_type": "code",
   "execution_count": null,
   "id": "22d64d73-56cb-4312-b289-642f7220a276",
   "metadata": {},
   "outputs": [],
   "source": []
  },
  {
   "cell_type": "code",
   "execution_count": null,
   "id": "bad4f640-cfb5-45c0-978b-ba69aa392ade",
   "metadata": {},
   "outputs": [],
   "source": []
  },
  {
   "cell_type": "code",
   "execution_count": null,
   "id": "ee283872-3223-4579-abf7-940763bf8958",
   "metadata": {},
   "outputs": [],
   "source": []
  },
  {
   "cell_type": "code",
   "execution_count": null,
   "id": "e261beec-1f7c-43aa-bbd2-78ca2cbd7128",
   "metadata": {},
   "outputs": [],
   "source": []
  },
  {
   "cell_type": "code",
   "execution_count": null,
   "id": "521daa43-68da-46fc-9f20-fc82c18135a6",
   "metadata": {},
   "outputs": [],
   "source": []
  },
  {
   "cell_type": "code",
   "execution_count": null,
   "id": "a9b7c4a3-c6f2-4d6c-a3d3-7e565bcec0b4",
   "metadata": {},
   "outputs": [],
   "source": []
  },
  {
   "cell_type": "code",
   "execution_count": null,
   "id": "54e22096-1858-4a9d-9c30-f5eecb5b0258",
   "metadata": {},
   "outputs": [],
   "source": []
  }
 ],
 "metadata": {
  "kernelspec": {
   "display_name": "Python 3 (ipykernel)",
   "language": "python",
   "name": "python3"
  },
  "language_info": {
   "codemirror_mode": {
    "name": "ipython",
    "version": 3
   },
   "file_extension": ".py",
   "mimetype": "text/x-python",
   "name": "python",
   "nbconvert_exporter": "python",
   "pygments_lexer": "ipython3",
   "version": "3.10.14"
  }
 },
 "nbformat": 4,
 "nbformat_minor": 5
}
